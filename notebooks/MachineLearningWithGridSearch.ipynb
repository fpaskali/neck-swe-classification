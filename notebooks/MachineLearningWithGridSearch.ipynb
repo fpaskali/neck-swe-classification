{
 "cells": [
  {
   "cell_type": "markdown",
   "metadata": {},
   "source": [
    "# Machine Learning with Hyperparameter optimization"
   ]
  },
  {
   "cell_type": "code",
   "execution_count": 2,
   "metadata": {},
   "outputs": [],
   "source": [
    "# importing the required packages\n",
    "import numpy as np\n",
    "import pandas as pd\n",
    "import scipy.stats as st\n",
    "\n",
    "from sklearn.preprocessing import StandardScaler\n",
    "from sklearn.model_selection import KFold, GridSearchCV, cross_validate\n",
    "from sklearn.neighbors import KNeighborsClassifier\n",
    "from sklearn.linear_model import LogisticRegression\n",
    "from sklearn.naive_bayes import GaussianNB\n",
    "from sklearn.svm import SVC\n",
    "from sklearn.ensemble import RandomForestClassifier\n",
    "from sklearn.tree import DecisionTreeClassifier\n",
    "from sklearn.metrics import recall_score, make_scorer"
   ]
  },
  {
   "cell_type": "markdown",
   "metadata": {},
   "source": [
    "### Helper functions"
   ]
  },
  {
   "cell_type": "code",
   "execution_count": 3,
   "metadata": {},
   "outputs": [],
   "source": [
    "def conf_int(num_array):\n",
    "    \"\"\"\n",
    "    Return the 2.5% and 97.5% confidence interval from numpy array as string.\n",
    "    \n",
    "    Parameters\n",
    "    ----------\n",
    "    num_array : numpy array\n",
    "\n",
    "    Returns\n",
    "    -------\n",
    "    str\n",
    "        2.5% - 97.5% confidence interval\n",
    "\n",
    "    \"\"\"\n",
    "    ci = st.t.interval(confidence=0.95, df=len(num_array)-1,\n",
    "                        loc=np.nanmean(num_array),\n",
    "                        scale=st.sem(num_array, nan_policy='omit'))\n",
    "\n",
    "    return(f'{ci[0]:.5f}-{ci[1]:.5f}')\n",
    "\n",
    "\n",
    "def merge_scores(list_with_scores):\n",
    "    \"\"\"\n",
    "    Merge scores from cross-validation into one score dictionary.\n",
    "\n",
    "    Parameters\n",
    "    ----------\n",
    "    list_with_scores : list\n",
    "        contains two or more crossvalidation scores\n",
    "    \n",
    "    Returns\n",
    "    -------\n",
    "    dict\n",
    "        dictionary with merged scores\n",
    "    \"\"\"\n",
    "\n",
    "    for i in range(1,len(list_with_scores)):\n",
    "        for k in list_with_scores[0].keys():\n",
    "            list_with_scores[0][k] = np.concatenate((list_with_scores[0][k], list_with_scores[i][k]), axis=0)\n",
    "\n",
    "    return list_with_scores[0]"
   ]
  },
  {
   "cell_type": "markdown",
   "metadata": {},
   "source": [
    "### Loading the file with features"
   ]
  },
  {
   "cell_type": "code",
   "execution_count": 4,
   "metadata": {},
   "outputs": [],
   "source": [
    "dataset = pd.read_csv(\"../data/features.csv\")\n",
    "X = dataset.iloc[:,4:-1]\n",
    "y = dataset.iloc[:,-1]"
   ]
  },
  {
   "cell_type": "markdown",
   "metadata": {},
   "source": [
    "## Preprocessing"
   ]
  },
  {
   "cell_type": "code",
   "execution_count": 5,
   "metadata": {},
   "outputs": [],
   "source": [
    "# removing the columns with missing values\n",
    "X = X.dropna(axis=1)\n",
    "# adding the performed activities and imaging session number as dummy variable\n",
    "X = pd.concat([X, pd.get_dummies(dataset.iloc[:,3], drop_first=True), pd.get_dummies(dataset.iloc[:,2], prefix=\"rep_\", drop_first=True)], axis=1)\n",
    "\n",
    "# convert to numpy arrays\n",
    "X, y = np.array(X), np.array(y)\n",
    "\n",
    "# Standardization with standard scaler\n",
    "standard_scaler = StandardScaler()\n",
    "norm_X = standard_scaler.fit_transform(X)"
   ]
  },
  {
   "cell_type": "markdown",
   "metadata": {},
   "source": [
    "## Training the machine learning models models"
   ]
  },
  {
   "cell_type": "code",
   "execution_count": 6,
   "metadata": {},
   "outputs": [],
   "source": [
    "# Constants used for training\n",
    "NUM_TRIALS = 10\n",
    "K_FOLD = 10\n",
    "N_JOBS = -1"
   ]
  },
  {
   "cell_type": "code",
   "execution_count": 7,
   "metadata": {},
   "outputs": [],
   "source": [
    "# Scoring parameters\n",
    "scor = {\"accuracy\": \"accuracy\",\n",
    "        \"balanced_accuracy\": \"balanced_accuracy\",\n",
    "        \"sensitivity\": \"recall\",\n",
    "        \"specifity\": make_scorer(recall_score, pos_label=0),\n",
    "        \"roc_auc\": \"roc_auc\",\n",
    "        \"neg_brier_score\": \"neg_brier_score\"}"
   ]
  },
  {
   "cell_type": "markdown",
   "metadata": {},
   "source": [
    "### K-Nearest Neighbors"
   ]
  },
  {
   "cell_type": "code",
   "execution_count": 9,
   "metadata": {},
   "outputs": [
    {
     "name": "stdout",
     "output_type": "stream",
     "text": [
      "KNN Trial 1/10\n"
     ]
    },
    {
     "data": {
      "text/html": [
       "<div>\n",
       "<style scoped>\n",
       "    .dataframe tbody tr th:only-of-type {\n",
       "        vertical-align: middle;\n",
       "    }\n",
       "\n",
       "    .dataframe tbody tr th {\n",
       "        vertical-align: top;\n",
       "    }\n",
       "\n",
       "    .dataframe thead th {\n",
       "        text-align: right;\n",
       "    }\n",
       "</style>\n",
       "<table border=\"1\" class=\"dataframe\">\n",
       "  <thead>\n",
       "    <tr style=\"text-align: right;\">\n",
       "      <th></th>\n",
       "      <th>KNN</th>\n",
       "      <th>KNN (mean)</th>\n",
       "    </tr>\n",
       "  </thead>\n",
       "  <tbody>\n",
       "    <tr>\n",
       "      <th>fit_time</th>\n",
       "      <td>29.05321-33.64335</td>\n",
       "      <td>31.348279</td>\n",
       "    </tr>\n",
       "    <tr>\n",
       "      <th>score_time</th>\n",
       "      <td>0.07109-1.30885</td>\n",
       "      <td>0.689971</td>\n",
       "    </tr>\n",
       "    <tr>\n",
       "      <th>test_accuracy</th>\n",
       "      <td>0.76954-0.81006</td>\n",
       "      <td>0.789800</td>\n",
       "    </tr>\n",
       "    <tr>\n",
       "      <th>test_balanced_accuracy</th>\n",
       "      <td>0.77062-0.81191</td>\n",
       "      <td>0.791267</td>\n",
       "    </tr>\n",
       "    <tr>\n",
       "      <th>test_sensitivity</th>\n",
       "      <td>0.77347-0.83704</td>\n",
       "      <td>0.805253</td>\n",
       "    </tr>\n",
       "    <tr>\n",
       "      <th>test_specifity</th>\n",
       "      <td>0.75676-0.79780</td>\n",
       "      <td>0.777280</td>\n",
       "    </tr>\n",
       "    <tr>\n",
       "      <th>test_roc_auc</th>\n",
       "      <td>0.86899-0.90320</td>\n",
       "      <td>0.886099</td>\n",
       "    </tr>\n",
       "    <tr>\n",
       "      <th>test_neg_brier_score</th>\n",
       "      <td>-0.15300--0.13488</td>\n",
       "      <td>-0.143942</td>\n",
       "    </tr>\n",
       "  </tbody>\n",
       "</table>\n",
       "</div>"
      ],
      "text/plain": [
       "                                      KNN  KNN (mean)\n",
       "fit_time                29.05321-33.64335   31.348279\n",
       "score_time                0.07109-1.30885    0.689971\n",
       "test_accuracy             0.76954-0.81006    0.789800\n",
       "test_balanced_accuracy    0.77062-0.81191    0.791267\n",
       "test_sensitivity          0.77347-0.83704    0.805253\n",
       "test_specifity            0.75676-0.79780    0.777280\n",
       "test_roc_auc              0.86899-0.90320    0.886099\n",
       "test_neg_brier_score    -0.15300--0.13488   -0.143942"
      ]
     },
     "execution_count": 9,
     "metadata": {},
     "output_type": "execute_result"
    }
   ],
   "source": [
    "knn = KNeighborsClassifier()\n",
    "\n",
    "# parameter grid for GridSearchCV\n",
    "p_grid = {\n",
    "    'leaf_size': [10, 15, 20, 25],\n",
    "    'n_neighbors': [3, 5, 7, 9, 11],\n",
    "    'weights': ['uniform', 'distance'],\n",
    "    'p': [1, 2]\n",
    "}\n",
    "\n",
    "nested_scores = []\n",
    "count = 0\n",
    "for i in range(NUM_TRIALS):\n",
    "    inner_cv = KFold(n_splits=K_FOLD, shuffle=True, random_state=i)\n",
    "    outer_cv = KFold(n_splits=K_FOLD, shuffle=True, random_state=i*10)\n",
    "\n",
    "    clf = GridSearchCV(estimator=knn, param_grid=p_grid, scoring=\"roc_auc\", cv=inner_cv, n_jobs=N_JOBS)\n",
    "    nested_cv = cross_validate(estimator=clf, scoring=scor, X=norm_X, y=y, n_jobs=N_JOBS, cv=outer_cv)\n",
    "    nested_scores.append(nested_cv)\n",
    "\n",
    "    count += 1\n",
    "    print(f\"KNN Trial {count}/{NUM_TRIALS}\")\n",
    "\n",
    "nested_scores = merge_scores(nested_scores)\n",
    "score = {k:conf_int(v) for k,v in nested_scores.items()}\n",
    "mean_score = {k:np.nanmean(v) for k,v in nested_scores.items()}\n",
    "\n",
    "scores_df = pd.DataFrame(score, index=[\"KNN\"]).transpose()\n",
    "scores_df = pd.concat([scores_df, pd.DataFrame(mean_score, index=[\"KNN (mean)\"]).transpose()], axis=1)\n",
    "scores_df"
   ]
  },
  {
   "cell_type": "markdown",
   "metadata": {},
   "source": [
    "### Logistic Regression"
   ]
  },
  {
   "cell_type": "code",
   "execution_count": null,
   "metadata": {},
   "outputs": [],
   "source": [
    "lr = LogisticRegression()\n",
    "\n",
    "# parameter grid for GridSearchCV\n",
    "p_grid = [{\"penalty\": [\"l1\", \"l2\"],\n",
    "            \"C\": [1, 10, 100],\n",
    "            \"solver\": [\"liblinear\"],\n",
    "            \"max_iter\": [300],\n",
    "            }, \n",
    "            {\"penalty\": [\"elasticnet\"],\n",
    "           \"C\": [1, 10, 100],\n",
    "           \"solver\": [\"saga\"],\n",
    "           \"max_iter\": [300]}]\n",
    "\n",
    "nested_scores = []\n",
    "count = 0\n",
    "for i in range(NUM_TRIALS):\n",
    "    inner_cv = KFold(n_splits=K_FOLD, shuffle=True, random_state=i)\n",
    "    outer_cv = KFold(n_splits=K_FOLD, shuffle=True, random_state=i*10)\n",
    "\n",
    "    clf = GridSearchCV(estimator=lr, param_grid=p_grid, scoring=\"roc_auc\", cv=inner_cv, n_jobs=N_JOBS)\n",
    "    nested_cv = cross_validate(estimator=clf, scoring=scor, X=norm_X, y=y, n_jobs=N_JOBS, cv=outer_cv)\n",
    "    nested_scores.append(nested_cv)\n",
    "\n",
    "    count += 1\n",
    "    print(f\"LR Trial {count}/{NUM_TRIALS}\")\n",
    "\n",
    "nested_scores = merge_scores(nested_scores)\n",
    "score = {k:conf_int(v) for k,v in nested_scores.items()}\n",
    "mean_score = {k:np.nanmean(v) for k,v in nested_scores.items()}\n",
    "\n",
    "scores_df = pd.DataFrame(score, index=[\"Logistic Reg\"]).transpose()\n",
    "scores_df = pd.concat([scores_df, pd.DataFrame(mean_score, index=[\"Logistic Reg (mean)\"]).transpose()], axis=1)\n",
    "scores_df"
   ]
  },
  {
   "cell_type": "markdown",
   "metadata": {},
   "source": [
    "### Naive Bayes"
   ]
  },
  {
   "cell_type": "code",
   "execution_count": 10,
   "metadata": {},
   "outputs": [
    {
     "name": "stdout",
     "output_type": "stream",
     "text": [
      "NB Trial 1/10\n"
     ]
    },
    {
     "data": {
      "text/html": [
       "<div>\n",
       "<style scoped>\n",
       "    .dataframe tbody tr th:only-of-type {\n",
       "        vertical-align: middle;\n",
       "    }\n",
       "\n",
       "    .dataframe tbody tr th {\n",
       "        vertical-align: top;\n",
       "    }\n",
       "\n",
       "    .dataframe thead th {\n",
       "        text-align: right;\n",
       "    }\n",
       "</style>\n",
       "<table border=\"1\" class=\"dataframe\">\n",
       "  <thead>\n",
       "    <tr style=\"text-align: right;\">\n",
       "      <th></th>\n",
       "      <th>Naive Bayes</th>\n",
       "      <th>Naive Bayes (mean)</th>\n",
       "    </tr>\n",
       "  </thead>\n",
       "  <tbody>\n",
       "    <tr>\n",
       "      <th>fit_time</th>\n",
       "      <td>1.86592-1.98506</td>\n",
       "      <td>1.925486</td>\n",
       "    </tr>\n",
       "    <tr>\n",
       "      <th>score_time</th>\n",
       "      <td>0.00724-0.04086</td>\n",
       "      <td>0.024051</td>\n",
       "    </tr>\n",
       "    <tr>\n",
       "      <th>test_accuracy</th>\n",
       "      <td>0.59874-0.65151</td>\n",
       "      <td>0.625129</td>\n",
       "    </tr>\n",
       "    <tr>\n",
       "      <th>test_balanced_accuracy</th>\n",
       "      <td>0.59661-0.65242</td>\n",
       "      <td>0.624515</td>\n",
       "    </tr>\n",
       "    <tr>\n",
       "      <th>test_sensitivity</th>\n",
       "      <td>0.53557-0.67446</td>\n",
       "      <td>0.605012</td>\n",
       "    </tr>\n",
       "    <tr>\n",
       "      <th>test_specifity</th>\n",
       "      <td>0.59709-0.69095</td>\n",
       "      <td>0.644019</td>\n",
       "    </tr>\n",
       "    <tr>\n",
       "      <th>test_roc_auc</th>\n",
       "      <td>0.66145-0.71174</td>\n",
       "      <td>0.686592</td>\n",
       "    </tr>\n",
       "    <tr>\n",
       "      <th>test_neg_brier_score</th>\n",
       "      <td>-0.39014--0.33819</td>\n",
       "      <td>-0.364163</td>\n",
       "    </tr>\n",
       "  </tbody>\n",
       "</table>\n",
       "</div>"
      ],
      "text/plain": [
       "                              Naive Bayes  Naive Bayes (mean)\n",
       "fit_time                  1.86592-1.98506            1.925486\n",
       "score_time                0.00724-0.04086            0.024051\n",
       "test_accuracy             0.59874-0.65151            0.625129\n",
       "test_balanced_accuracy    0.59661-0.65242            0.624515\n",
       "test_sensitivity          0.53557-0.67446            0.605012\n",
       "test_specifity            0.59709-0.69095            0.644019\n",
       "test_roc_auc              0.66145-0.71174            0.686592\n",
       "test_neg_brier_score    -0.39014--0.33819           -0.364163"
      ]
     },
     "execution_count": 10,
     "metadata": {},
     "output_type": "execute_result"
    }
   ],
   "source": [
    "nb = GaussianNB()\n",
    "\n",
    "# parameter grid for GridSearchCV\n",
    "p_grid = {\n",
    "    'var_smoothing': [1e-11, 1e-10, 1e-09, 1e-08, 1e-07]\n",
    "}\n",
    "\n",
    "nested_scores = []\n",
    "count = 0\n",
    "for i in range(NUM_TRIALS):\n",
    "    inner_cv = KFold(n_splits=K_FOLD, shuffle=True, random_state=i)\n",
    "    outer_cv = KFold(n_splits=K_FOLD, shuffle=True, random_state=i*10)\n",
    "\n",
    "    clf = GridSearchCV(estimator=nb, param_grid=p_grid, scoring=\"roc_auc\", cv=inner_cv, n_jobs=N_JOBS)\n",
    "    nested_cv = cross_validate(estimator=clf, scoring=scor, X=norm_X, y=y, n_jobs=N_JOBS, cv=outer_cv)\n",
    "    nested_scores.append(nested_cv)\n",
    "    \n",
    "    count += 1\n",
    "    print(f\"NB Trial {count}/{NUM_TRIALS}\")\n",
    "\n",
    "nested_scores = merge_scores(nested_scores)\n",
    "score = {k:conf_int(v) for k,v in nested_scores.items()}\n",
    "mean_score = {k:np.nanmean(v) for k,v in nested_scores.items()}\n",
    "\n",
    "scores_df = pd.DataFrame(score, index=[\"Naive Bayes\"]).transpose()\n",
    "scores_df = pd.concat([scores_df, pd.DataFrame(mean_score, index=[\"Naive Bayes (mean)\"]).transpose()], axis=1)\n",
    "scores_df\n"
   ]
  },
  {
   "cell_type": "markdown",
   "metadata": {},
   "source": [
    "### Decision Tree"
   ]
  },
  {
   "cell_type": "code",
   "execution_count": null,
   "metadata": {},
   "outputs": [],
   "source": [
    "dt = DecisionTreeClassifier()\n",
    "\n",
    "# parameter grid for GridSearchCV\n",
    "p_grid = {\n",
    "    'criterion': [\"gini\", \"entropy\", \"log_loss\"],\n",
    "    'splitter': [\"best\", \"random\"],\n",
    "    'max_depth': [50, 100, None]\n",
    "}\n",
    "\n",
    "nested_scores = []\n",
    "count = 0\n",
    "for i in range(NUM_TRIALS):\n",
    "    inner_cv = KFold(n_splits=K_FOLD, shuffle=True, random_state=i)\n",
    "    outer_cv = KFold(n_splits=K_FOLD, shuffle=True, random_state=i*10)\n",
    "\n",
    "    clf = GridSearchCV(estimator=dt, param_grid=p_grid, scoring=\"roc_auc\", cv=inner_cv, n_jobs=N_JOBS)\n",
    "    nested_cv = cross_validate(estimator=clf, scoring=scor, X=norm_X, y=y, n_jobs=N_JOBS, cv=outer_cv)\n",
    "    nested_scores.append(nested_cv)\n",
    "\n",
    "    count += 1\n",
    "    print(f\"DT Trial {count}/{NUM_TRIALS}\")\n",
    "\n",
    "nested_scores = merge_scores(nested_scores)\n",
    "score = {k:conf_int(v) for k,v in nested_scores.items()}\n",
    "mean_score = {k:np.nanmean(v) for k,v in nested_scores.items()}\n",
    "\n",
    "scores_df = pd.DataFrame(score, index=[\"Decision Tree\"]).transpose()\n",
    "scores_df = pd.concat([scores_df, pd.DataFrame(mean_score, index=[\"Decision Tree (mean)\"]).transpose()], axis=1)\n",
    "scores_df"
   ]
  },
  {
   "cell_type": "markdown",
   "metadata": {},
   "source": [
    "### SVM RBF kernel"
   ]
  },
  {
   "cell_type": "code",
   "execution_count": null,
   "metadata": {},
   "outputs": [],
   "source": [
    "svm = SVC(probability=True)\n",
    "\n",
    "# parameter grid for GridSearchCV\n",
    "p_grid1 = {'C': [1, 10, 100],\n",
    "           'kernel': ['rbf'],\n",
    "           'gamma': ['auto', 'scale'],\n",
    "           'cache_size': [7000]}\n",
    "\n",
    "nested_scores = []\n",
    "\n",
    "count = 0\n",
    "for i in range(NUM_TRIALS):\n",
    "    inner_cv = KFold(n_splits=K_FOLD, shuffle=True, random_state=i)\n",
    "    outer_cv = KFold(n_splits=K_FOLD, shuffle=True, random_state=i*10)\n",
    "\n",
    "    clf = GridSearchCV(estimator=svm, param_grid=p_grid1, scoring=\"roc_auc\", cv=inner_cv, n_jobs=N_JOBS)\n",
    "    nested_cv = cross_validate(estimator=clf, scoring=scor, X=norm_X, y=y, n_jobs=N_JOBS, cv=outer_cv)\n",
    "    nested_scores.append(nested_cv)\n",
    "    count += 1\n",
    "    print(f'SVM RBF Trial: {count}/{NUM_TRIALS}')\n",
    "\n",
    "nested_scores = merge_scores(nested_scores)\n",
    "score = {k:conf_int(v) for k,v in nested_scores.items()}\n",
    "mean_score = {k:np.nanmean(v) for k,v in nested_scores.items()}\n",
    "\n",
    "scores_df = pd.DataFrame(score, index=[\"SVM\"]).transpose()\n",
    "scores_df = pd.concat([scores_df, pd.DataFrame(mean_score, index=[\"SVM (mean)\"]).transpose()], axis=1)\n",
    "scores_df"
   ]
  },
  {
   "cell_type": "markdown",
   "metadata": {},
   "source": [
    "### SVM Polynomial kernel"
   ]
  },
  {
   "cell_type": "code",
   "execution_count": null,
   "metadata": {},
   "outputs": [],
   "source": [
    "svm = SVC(probability=True)\n",
    "\n",
    "# parameter grid for GridSearchCV\n",
    "p_grid1 = {'C': [1, 10, 100],\n",
    "           'kernel': ['poly'],\n",
    "           'coef0': [0.0, 0.2],\n",
    "           'gamma': ['auto', 'scale'],\n",
    "           'cache_size': [7000]}\n",
    "\n",
    "nested_scores = []\n",
    "\n",
    "count = 0\n",
    "for i in range(NUM_TRIALS):\n",
    "    inner_cv = KFold(n_splits=K_FOLD, shuffle=True, random_state=i)\n",
    "    outer_cv = KFold(n_splits=K_FOLD, shuffle=True, random_state=i*10)\n",
    "\n",
    "    clf = GridSearchCV(estimator=svm, param_grid=p_grid1, scoring=\"roc_auc\", cv=inner_cv, n_jobs=N_JOBS)\n",
    "    nested_cv = cross_validate(estimator=clf, scoring=scor, X=norm_X, y=y, n_jobs=N_JOBS, cv=outer_cv)\n",
    "    nested_scores.append(nested_cv)\n",
    "    count += 1\n",
    "    print(f'SVM Poly Trial: {count}/{NUM_TRIALS}')\n",
    "\n",
    "nested_scores = merge_scores(nested_scores)\n",
    "score = {k:conf_int(v) for k,v in nested_scores.items()}\n",
    "mean_score = {k:np.nanmean(v) for k,v in nested_scores.items()}\n",
    "\n",
    "scores_df = pd.DataFrame(score, index=[\"SVM\"]).transpose()\n",
    "scores_df = pd.concat([scores_df, pd.DataFrame(mean_score, index=[\"SVM (mean)\"]).transpose()], axis=1)\n",
    "scores_df"
   ]
  },
  {
   "cell_type": "markdown",
   "metadata": {},
   "source": [
    "### SVM Sigmoid kernel"
   ]
  },
  {
   "cell_type": "code",
   "execution_count": null,
   "metadata": {},
   "outputs": [],
   "source": [
    "svm = SVC(probability=True)\n",
    "\n",
    "# parameter grid for GridSearchCV\n",
    "p_grid1 = {'C': [1, 10, 100],\n",
    "           'kernel': ['sigmoid'],\n",
    "           'coef0': [0.0, 0.2],\n",
    "           'gamma': ['auto', 'scale'],\n",
    "           'cache_size': [7000]}\n",
    "\n",
    "nested_scores = []\n",
    "\n",
    "count = 0\n",
    "for i in range(NUM_TRIALS):\n",
    "    inner_cv = KFold(n_splits=K_FOLD, shuffle=True, random_state=i)\n",
    "    outer_cv = KFold(n_splits=K_FOLD, shuffle=True, random_state=i*10)\n",
    "\n",
    "    clf = GridSearchCV(estimator=svm, param_grid=p_grid1, scoring=\"roc_auc\", cv=inner_cv, n_jobs=N_JOBS)\n",
    "    nested_cv = cross_validate(estimator=clf, scoring=scor, X=norm_X, y=y, n_jobs=N_JOBS, cv=outer_cv)\n",
    "    nested_scores.append(nested_cv)\n",
    "    count += 1\n",
    "    print(f'SVM Sig Trial: {count}/{NUM_TRIALS}')\n",
    "\n",
    "nested_scores = merge_scores(nested_scores)\n",
    "score = {k:conf_int(v) for k,v in nested_scores.items()}\n",
    "mean_score = {k:np.nanmean(v) for k,v in nested_scores.items()}\n",
    "\n",
    "scores_df = pd.DataFrame(score, index=[\"SVM\"]).transpose()\n",
    "scores_df = pd.concat([scores_df, pd.DataFrame(mean_score, index=[\"SVM (mean)\"]).transpose()], axis=1)\n",
    "scores_df"
   ]
  },
  {
   "cell_type": "markdown",
   "metadata": {},
   "source": [
    "### Random Forest"
   ]
  },
  {
   "cell_type": "code",
   "execution_count": null,
   "metadata": {},
   "outputs": [],
   "source": [
    "rf = RandomForestClassifier()\n",
    "\n",
    "# parameter grid for GridSearchCV\n",
    "p_grid = {\n",
    "    'n_estimators': [1000],\n",
    "    'criterion': [\"gini\", \"entropy\", \"log_loss\"],\n",
    "    'max_depth': [50, 100, None],\n",
    "    'max_features': [\"sqrt\", \"log2\"]\n",
    "}\n",
    "\n",
    "nested_scores = []\n",
    "\n",
    "count = 0\n",
    "for i in range(NUM_TRIALS):\n",
    "    inner_cv = KFold(n_splits=K_FOLD, shuffle=True, random_state=i)\n",
    "    outer_cv = KFold(n_splits=K_FOLD, shuffle=True, random_state=i*10)\n",
    "\n",
    "    clf = GridSearchCV(estimator=rf, param_grid=p_grid, scoring=\"roc_auc\", cv=inner_cv, n_jobs=N_JOBS)\n",
    "    nested_cv = cross_validate(estimator=clf, scoring=scor, X=norm_X, y=y, n_jobs=N_JOBS, cv=outer_cv)\n",
    "\n",
    "    count += 1\n",
    "    print(f\"RF Trial {count}/{NUM_TRIALS}\")\n",
    "    nested_scores.append(nested_cv)\n",
    "\n",
    "nested_scores = merge_scores(nested_scores)\n",
    "score = {k:conf_int(v) for k,v in nested_scores.items()}\n",
    "mean_score = {k:np.nanmean(v) for k,v in nested_scores.items()}\n",
    "\n",
    "scores_df = pd.DataFrame(score, index=[\"Random Forest\"]).transpose()\n",
    "scores_df = pd.concat([scores_df, pd.DataFrame(mean_score, index=[\"RF (mean)\"]).transpose()], axis=1)\n",
    "scores_df"
   ]
  }
 ],
 "metadata": {
  "kernelspec": {
   "display_name": "stiffneck",
   "language": "python",
   "name": "python3"
  },
  "language_info": {
   "codemirror_mode": {
    "name": "ipython",
    "version": 3
   },
   "file_extension": ".py",
   "mimetype": "text/x-python",
   "name": "python",
   "nbconvert_exporter": "python",
   "pygments_lexer": "ipython3",
   "version": "3.10.8 (main, Oct 13 2022, 21:13:48) [GCC 12.2.0]"
  },
  "orig_nbformat": 4,
  "vscode": {
   "interpreter": {
    "hash": "1c78b8e2ea7d4c3e87f553b56198ce296708c9c6d67fb9289fe848266227a085"
   }
  }
 },
 "nbformat": 4,
 "nbformat_minor": 2
}
