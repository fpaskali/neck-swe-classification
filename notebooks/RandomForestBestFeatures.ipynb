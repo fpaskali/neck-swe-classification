{
 "cells": [
  {
   "cell_type": "code",
   "execution_count": null,
   "metadata": {},
   "outputs": [],
   "source": [
    "import numpy as np\n",
    "import pandas as pd\n",
    "import scipy.stats as st\n",
    "import matplotlib.pyplot as plt\n",
    "\n",
    "from sklearn.preprocessing import StandardScaler\n",
    "from sklearn.model_selection import KFold, GridSearchCV, cross_validate\n",
    "from sklearn.ensemble import RandomForestClassifier"
   ]
  },
  {
   "cell_type": "markdown",
   "metadata": {},
   "source": [
    "### Helper functions"
   ]
  },
  {
   "cell_type": "code",
   "execution_count": null,
   "metadata": {},
   "outputs": [],
   "source": [
    "def merge_scores(list_with_scores):\n",
    "    \"\"\"\n",
    "    Merge scores from cross-validation into one score dictionary.\n",
    "\n",
    "    Parameters\n",
    "    ----------\n",
    "    list_with_scores : list\n",
    "        contains two or more crossvalidation scores\n",
    "    \n",
    "    Returns\n",
    "    -------\n",
    "    dict\n",
    "        dictionary with merged scores\n",
    "    \"\"\"\n",
    "\n",
    "    for i in range(1,len(list_with_scores)):\n",
    "        for k in list_with_scores[0].keys():\n",
    "            list_with_scores[0][k] = np.concatenate((list_with_scores[0][k], list_with_scores[i][k]), axis=0)\n",
    "\n",
    "    return list_with_scores[0]"
   ]
  },
  {
   "cell_type": "markdown",
   "metadata": {},
   "source": [
    "### Loading the file with features"
   ]
  },
  {
   "cell_type": "code",
   "execution_count": null,
   "metadata": {},
   "outputs": [],
   "source": [
    "dataset = pd.read_csv(\"../data/features.csv\")\n",
    "X = dataset.iloc[:,4:-1]\n",
    "y = dataset.iloc[:,-1]"
   ]
  },
  {
   "cell_type": "markdown",
   "metadata": {},
   "source": [
    "## Preprocessing"
   ]
  },
  {
   "cell_type": "code",
   "execution_count": null,
   "metadata": {},
   "outputs": [],
   "source": [
    "# removing the columns with missing values\n",
    "X = X.dropna(axis=1)\n",
    "# adding the performed activities and imaging session number as dummy variable\n",
    "X = pd.concat([X, pd.get_dummies(dataset.iloc[:,3], drop_first=True), pd.get_dummies(dataset.iloc[:,2], prefix=\"rep_\", drop_first=True)], axis=1)\n",
    "\n",
    "# Saving the column names\n",
    "col_names = X.columns\n",
    "\n",
    "# convert to numpy arrays\n",
    "X, y = np.array(X), np.array(y)\n",
    "\n",
    "# Standardization with standard scaler\n",
    "standard_scaler = StandardScaler()\n",
    "norm_X = standard_scaler.fit_transform(X)"
   ]
  },
  {
   "cell_type": "markdown",
   "metadata": {},
   "source": [
    "## Training the machine learning model"
   ]
  },
  {
   "cell_type": "code",
   "execution_count": null,
   "metadata": {},
   "outputs": [],
   "source": [
    "# Constants used for training\n",
    "NUM_TRIALS = 10\n",
    "K_FOLD = 10\n",
    "N_JOBS = -1"
   ]
  },
  {
   "cell_type": "code",
   "execution_count": null,
   "metadata": {},
   "outputs": [],
   "source": [
    "# Random Forest\n",
    "rf = RandomForestClassifier()\n",
    "\n",
    "# parameter grid for GridSearchCV\n",
    "p_grid = {\n",
    "    'n_estimators': [1000],\n",
    "    'criterion': [\"gini\", \"entropy\", \"log_loss\"],\n",
    "    'max_depth': [50, 100, None],\n",
    "    'max_features': [\"sqrt\", \"log2\"]\n",
    "}\n",
    "\n",
    "nested_scores = []\n",
    "\n",
    "count = 0\n",
    "for i in range(NUM_TRIALS):\n",
    "    inner_cv = KFold(n_splits=K_FOLD, shuffle=True, random_state=i)\n",
    "    outer_cv = KFold(n_splits=K_FOLD, shuffle=True, random_state=i*10)\n",
    "\n",
    "    clf = GridSearchCV(estimator=rf, param_grid=p_grid, scoring=\"roc_auc\", cv=inner_cv, n_jobs=N_JOBS)\n",
    "    nested_cv = cross_validate(estimator=clf, scoring=\"roc_auc\", X=norm_X, y=y, n_jobs=N_JOBS, cv=outer_cv, return_estimator=True)\n",
    "\n",
    "    count += 1\n",
    "    print(f\"RF Trial {count}/{NUM_TRIALS}\")\n",
    "    nested_scores.append(nested_cv)\n",
    "\n",
    "nested_scores = merge_scores(nested_scores)\n"
   ]
  },
  {
   "cell_type": "markdown",
   "metadata": {},
   "source": [
    "Extracting the feature importances from the best estimator in each cross validation"
   ]
  },
  {
   "cell_type": "code",
   "execution_count": null,
   "metadata": {},
   "outputs": [],
   "source": [
    "df_dict = {'features': col_names}\n",
    "df_dict.update({f'cv_{i+1}_importances':nested_scores[\"estimator\"][i].best_estimator_.feature_importances_ for i in range(len(nested_scores[\"estimator\"]))})\n",
    "df = pd.DataFrame(df_dict)\n",
    "df"
   ]
  },
  {
   "cell_type": "markdown",
   "metadata": {},
   "source": [
    "Calculating row mean and standard deviation"
   ]
  },
  {
   "cell_type": "code",
   "execution_count": null,
   "metadata": {},
   "outputs": [],
   "source": [
    "df['rowsMean']=df.iloc[:,1:].mean(axis=1)\n",
    "df['rowsStd']=df.iloc[:,1:].std(axis=1)"
   ]
  },
  {
   "cell_type": "markdown",
   "metadata": {},
   "source": [
    "Sorting by mean feature importance and selecting the best 20 features"
   ]
  },
  {
   "cell_type": "code",
   "execution_count": null,
   "metadata": {},
   "outputs": [],
   "source": [
    "sorted_df = df.sort_values(by=['rowsMean'], ascending=False)\n",
    "sorted_df[:20]"
   ]
  },
  {
   "cell_type": "markdown",
   "metadata": {},
   "source": [
    "Ploting the figure of the best 20 features and their Gini importance"
   ]
  },
  {
   "cell_type": "code",
   "execution_count": null,
   "metadata": {},
   "outputs": [],
   "source": [
    "NUM_FEATURES = 20\n",
    "\n",
    "top_features = sorted_df[\"features\"][:NUM_FEATURES]\n",
    "\n",
    "\n",
    "fig, ax = plt.subplots(figsize=(5,5))\n",
    "y_pos = np.arange(NUM_FEATURES)\n",
    "\n",
    "ax.barh(y_pos, sorted_df['rowsMean'][:NUM_FEATURES], xerr=sorted_df['rowsStd'][:NUM_FEATURES], align='center')\n",
    "ax.set_yticks(y_pos, top_features)\n",
    "ax.invert_yaxis()\n",
    "ax.set_xlabel('Gini importance')"
   ]
  }
 ],
 "metadata": {
  "kernelspec": {
   "display_name": "stiffneck",
   "language": "python",
   "name": "python3"
  },
  "language_info": {
   "codemirror_mode": {
    "name": "ipython",
    "version": 3
   },
   "file_extension": ".py",
   "mimetype": "text/x-python",
   "name": "python",
   "nbconvert_exporter": "python",
   "pygments_lexer": "ipython3",
   "version": "3.10.8 (main, Oct 13 2022, 21:13:48) [GCC 12.2.0]"
  },
  "orig_nbformat": 4,
  "vscode": {
   "interpreter": {
    "hash": "1c78b8e2ea7d4c3e87f553b56198ce296708c9c6d67fb9289fe848266227a085"
   }
  }
 },
 "nbformat": 4,
 "nbformat_minor": 2
}
